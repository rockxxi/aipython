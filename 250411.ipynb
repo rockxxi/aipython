{
 "cells": [
  {
   "cell_type": "code",
   "execution_count": null,
   "id": "0fdb1432-f55f-4805-b537-4d5cacdbaef8",
   "metadata": {},
   "outputs": [],
   "source": [
    "#리스트 = {\"??\", \"??\", \"??\"} dmlgudtlr\n",
    "#슬라이싱 리스트이름[?:?] 부분 추출, 단start:stop에서 stop은 포함x\n",
    "#항목바꾸기 추가하기 제거하기 append insert extend pop remove clear\n",
    "#리스트길이 len-> 총 개수 뽑기\n",
    "#있는지 확인하기 true false로 3 in 리스트 1 형태\n"
   ]
  },
  {
   "cell_type": "code",
   "execution_count": 1,
   "id": "4f7f3949-48b7-4486-af08-69abcc6da664",
   "metadata": {},
   "outputs": [],
   "source": [
    "#문자열 0개 이상의 문자 \n",
    "#플러스연산자로 문자열 간 연결가능\n",
    "#\"\" 혹은 ''로 사용가능\n",
    "#'' 도 문자열 단,빈문자열\n",
    "#여러줄 문자열을 표시하기위해 '''문자 문자''' 이런식으로 줄 변형 가능\n",
    "#줄바꿈표현 '문자열'\\n'문자열 하면 두 줄로 표시가능\n",
    "#\\t 은 탭문자 \\' \\\" \\\\ 따옴표와 역슬래시 표현\n",
    "#s='abc' 와 s = ['a', 'b', 'c',] 랑 비스한 맥락임\n",
    "# for i in range(len(S)): end=\"\"은 출력시에 빈칸이 없게, 옆으로 출력할수있게, 안하면 아래로 출력\n",
    "#range대신에 in 다음 문자열써도됨 인덱스없이 사용하느냐의 차이 이건 인덱스안씀\n",
    "#문자열 슬라이싱 문자열[?:?] 종료인덱스직전까지\n",
    "#s= 'abcde' print(s[1:-2]) 하면 bc가나옴 1부터 -2인 d까지 범위\n",
    "#문자열 저장후 출력 \n",
    "\n",
    "\n"
   ]
  },
  {
   "cell_type": "code",
   "execution_count": 6,
   "id": "772d1cd5-a823-404b-a7d1-140016b62eb8",
   "metadata": {},
   "outputs": [
    {
     "name": "stdout",
     "output_type": "stream",
     "text": [
      "남자\n"
     ]
    }
   ],
   "source": [
    "#가상의 주민번호\n",
    "id = '010204-3876562'\n",
    "#성별확인하기\n",
    "if id[7] == '3':\n",
    "    print(\"남자\")\n",
    "else:\n",
    "    print(\"여자\")"
   ]
  },
  {
   "cell_type": "code",
   "execution_count": 9,
   "id": "c1c45a2f-17ee-45d3-8ea0-623340c6beff",
   "metadata": {},
   "outputs": [
    {
     "name": "stdin",
     "output_type": "stream",
     "text": [
      "문자열:  wew\n"
     ]
    },
    {
     "name": "stdout",
     "output_type": "stream",
     "text": [
      "회문\n"
     ]
    }
   ],
   "source": [
    "s1 = input('문자열: ')\n",
    "s2 = ''\n",
    "\n",
    "for i in range(len(s1)-1,-1,-1):\n",
    "    s2 = s2 + s1[i]\n",
    "if s1 == s2:\n",
    "    print(\"회문\")\n",
    "else:\n",
    "    print(\"회문아님\")"
   ]
  },
  {
   "cell_type": "code",
   "execution_count": null,
   "id": "ef02fee3-92f8-465e-be1c-65a5ca82eae9",
   "metadata": {},
   "outputs": [],
   "source": [
    "#대소문자변환\n",
    "#빈리스트를 만들고 무한반복문을 만들어서 exit입력전까지 빈리스트에 해당 단어 추가\n",
    "#문자열 찾기, find()는 특정문자열을 찾아서 인덱스 반환, 없으면 -1\n",
    "#공백제거 strip() replace() 특정문자열을 다른 문자열로\n",
    "#split 문자열을 리스트로 변환 join 여러 문자열을 하나의 문자열로 혹은 리스트를 문자열로\n",
    "#조건문만들 때 문자열 파악을 위해 isdigit isalpha islower isalnum등으로 true false값낼수있음\n",
    "#print('123123'.isdigit()) 이런식으로 \n",
    "\n"
   ]
  },
  {
   "cell_type": "code",
   "execution_count": 12,
   "id": "79f113b1-ef2a-432d-9ea8-49f636a86fb0",
   "metadata": {},
   "outputs": [
    {
     "name": "stdout",
     "output_type": "stream",
     "text": [
      "['부산시', '금정구']\n"
     ]
    }
   ],
   "source": [
    "#split 실습\n",
    "s = '부산시 금정구'\n",
    "print(s.split(' '))"
   ]
  },
  {
   "cell_type": "code",
   "execution_count": 21,
   "id": "7dd37981-372c-46b6-80a9-43e9050a976c",
   "metadata": {},
   "outputs": [
    {
     "name": "stdin",
     "output_type": "stream",
     "text": [
      "비밀번호를 입력하세요: @$#%@%sfs\n"
     ]
    },
    {
     "name": "stdout",
     "output_type": "stream",
     "text": [
      "다시입력하시오 \n"
     ]
    }
   ],
   "source": [
    "#사용자로부터 비밀번호 입력 후 문자와 숫자로 섞여있으면 통과라고 띄우기\n",
    "password = input('비밀번호를 입력하세요:')\n",
    "if password.isalnum() == True:\n",
    "    print(\"통과\")\n",
    "else:\n",
    "    print(\"다시입력하시오 \")\n",
    "#숫자로만 이뤄어져도 괜춘 알파벳만으로도 괜춘 문제는기호가 들어가면 false나옴\n",
    "\n"
   ]
  },
  {
   "cell_type": "code",
   "execution_count": null,
   "id": "8a6ede29-dd7c-4164-8695-1f5a9643fe7b",
   "metadata": {},
   "outputs": [],
   "source": [
    "#튜플 소괄호 사용 리스트는 대괄호 \n",
    "#딕셔너리는 키와 값을 가짐 중괄호사용\n",
    "#학생 = {\"키\":\"값\" }의 형식 \n",
    "#이름 = 학생[\"이름\"] 하면 김철수\"가 나오는 형식 학생[\"학점\"] = 3.5 d이런식으로 키값추가 \n",
    "#pop, del 학생[\"전화번호\"] 등으로 삭제도가능\n",
    "#for 키 in 학생: 하면 모든 키가 나오고, 키, 값을 쌍으로 갖고오려면 for 키, 값 in 학생.items 형태로\n",
    "#비교 \n",
    "#딕셔너리는 중첩으로 사용가능, \n",
    "#빈도수 확인 문장 주고 단어들을 문장.split() 빈도수라는 딕셔너리 만들고 for 단어 in 단어들:  if 단어 in 빈도수\n",
    "# 빈도수[단어] += 1로 구분\n",
    "\n"
   ]
  }
 ],
 "metadata": {
  "kernelspec": {
   "display_name": "Python 3 (ipykernel)",
   "language": "python",
   "name": "python3"
  },
  "language_info": {
   "codemirror_mode": {
    "name": "ipython",
    "version": 3
   },
   "file_extension": ".py",
   "mimetype": "text/x-python",
   "name": "python",
   "nbconvert_exporter": "python",
   "pygments_lexer": "ipython3",
   "version": "3.12.6"
  }
 },
 "nbformat": 4,
 "nbformat_minor": 5
}
