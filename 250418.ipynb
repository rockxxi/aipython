{
 "cells": [
  {
   "cell_type": "code",
   "execution_count": null,
   "id": "0f44bde3-1f6d-481b-b5dd-d2ab3b10bace",
   "metadata": {},
   "outputs": [],
   "source": [
    "#딕셔너리 실습"
   ]
  },
  {
   "cell_type": "code",
   "execution_count": null,
   "id": "bdc0e201-4c26-46a2-97cc-71fad9bdb439",
   "metadata": {},
   "outputs": [],
   "source": [
    "#??? = {\n",
    "#    '??': '??',\n",
    "#    '??': '??',\n",
    "#    '??': '??',\n",
    "#}\n",
    "\n",
    "#변수명 = 딕셔너리['키']\n",
    "#딕셔너리['키'] = '값'\n",
    "#삭제는 del 딕셔너리['키']\n",
    "#item은 순회 \n",
    "#list는 반드시 반복문 화룡 \n",
    "#키값모두 순회할 때 for 변수, 변수 in 딕셔너리.items()\n",
    "#print(f\"????\")\n",
    "#값변경 딕셔너리['키'] = 바꿀 값\n",
    "#업데이트, 첫번째 딕셔너리.update(두번째 딕셔너리) 겹치는키는 덮어쓰기 \n"
   ]
  },
  {
   "cell_type": "code",
   "execution_count": 5,
   "id": "45f55894-4eb8-4c16-bf79-99e93d82b17e",
   "metadata": {},
   "outputs": [
    {
     "name": "stdout",
     "output_type": "stream",
     "text": [
      "학생정보딕셔너리: {'name': '김민수', 'age': '20', 'major': '미컴'}\n"
     ]
    }
   ],
   "source": [
    "#실습1\n",
    "student = {\n",
    "    'name': '김민수',\n",
    "    'age': '20',\n",
    "    'major': '미컴'\n",
    "}\n",
    "print(f\"학생정보딕셔너리: {student}\")"
   ]
  },
  {
   "cell_type": "code",
   "execution_count": 7,
   "id": "cb1d70f7-a54d-40a2-a672-6b38cd0ff65d",
   "metadata": {},
   "outputs": [
    {
     "name": "stdout",
     "output_type": "stream",
     "text": [
      "학생정보딕셔너리2: {'name': '김민수', 'age': '20', 'grade': '4.5'}\n"
     ]
    }
   ],
   "source": [
    "#실습2\n",
    "student['grade'] = '4.5'\n",
    "del student['major']\n",
    "print(f\"학생정보딕셔너리2: {student}\")\n"
   ]
  },
  {
   "cell_type": "code",
   "execution_count": 11,
   "id": "f056ce2f-922d-4cbb-82d1-ef8163494604",
   "metadata": {},
   "outputs": [
    {
     "name": "stdout",
     "output_type": "stream",
     "text": [
      "사과: 1500원\n",
      "바나나: 500원\n",
      "딸기: 2000원\n",
      "포도: 6000원\n"
     ]
    }
   ],
   "source": [
    "fruit_prices = {\n",
    "    '사과': 1500,\n",
    "    '바나나': 500,\n",
    "    '딸기': 2000,\n",
    "    '포도': 6000\n",
    "}\n",
    "for fruit, price in fruit_prices.items():\n",
    "    print(f\"{fruit}: {price}원\")\n",
    "    "
   ]
  },
  {
   "cell_type": "code",
   "execution_count": 12,
   "id": "12d874a4-2688-45cc-9e0c-49555add7aef",
   "metadata": {},
   "outputs": [
    {
     "name": "stdout",
     "output_type": "stream",
     "text": [
      "변경된과일가격: {'사과': 5000, '바나나': 500, '딸기': 2000, '포도': 6000}\n"
     ]
    }
   ],
   "source": [
    "fruit_prices['사과'] =5000\n",
    "print(f\"변경된과일가격: {fruit_prices}\")"
   ]
  },
  {
   "cell_type": "code",
   "execution_count": 13,
   "id": "27704cdf-f4fe-4d2f-9d90-b282294685b3",
   "metadata": {},
   "outputs": [
    {
     "name": "stdout",
     "output_type": "stream",
     "text": [
      "첫 번째 딕셔너리: {'a': 1, 'b': 2, 'c': 3}\n",
      "두 번째 딕셔너리: {'b': 4, 'd': 5}\n",
      "두 딕셔너리 합치기 (update() 결과): {'a': 1, 'b': 4, 'c': 3, 'd': 5}\n"
     ]
    }
   ],
   "source": [
    "dict1 = {'a': 1, 'b': 2, 'c': 3}\n",
    "dict2 = {'b': 4, 'd': 5}\n",
    "print(f\"첫 번째 딕셔너리: {dict1}\")\n",
    "print(f\"두 번째 딕셔너리: {dict2}\")\n",
    "dict1.update(dict2) \n",
    "print(f\"두 딕셔너리 합치기 (update() 결과): {dict1}\")"
   ]
  },
  {
   "cell_type": "code",
   "execution_count": null,
   "id": "0d0194a5-88aa-4e6b-943c-9f16ba401150",
   "metadata": {},
   "outputs": [],
   "source": [
    "#중첩딕셔너리\n",
    "딕셔너리 = {\n",
    "    \"딕셔너리2\" : {\n",
    "\n",
    "    },\n",
    "    \"딕셔너리3\" : {\n",
    "    }\n",
    "\n",
    "원하는 값 = 딕셔너리[\"딕셔너리2\"][\"\"]"
   ]
  },
  {
   "cell_type": "code",
   "execution_count": null,
   "id": "fefb0cb8-53ed-469c-8d1c-890c9a61b6f8",
   "metadata": {},
   "outputs": [],
   "source": [
    "A, B= map(int, input().split())\n",
    "print(A+B)\n",
    "\n",
    "#정답"
   ]
  },
  {
   "cell_type": "code",
   "execution_count": null,
   "id": "6468394d-3d8b-4b90-a69c-5bc6dbfe0668",
   "metadata": {},
   "outputs": [],
   "source": [
    "h = float(input())\n",
    "w = float(input())\n",
    "bmi = w/((h/100)**2)\n",
    "print(round(bmi,2))\n",
    "#정답"
   ]
  }
 ],
 "metadata": {
  "kernelspec": {
   "display_name": "Python 3 (ipykernel)",
   "language": "python",
   "name": "python3"
  },
  "language_info": {
   "codemirror_mode": {
    "name": "ipython",
    "version": 3
   },
   "file_extension": ".py",
   "mimetype": "text/x-python",
   "name": "python",
   "nbconvert_exporter": "python",
   "pygments_lexer": "ipython3",
   "version": "3.12.6"
  }
 },
 "nbformat": 4,
 "nbformat_minor": 5
}
