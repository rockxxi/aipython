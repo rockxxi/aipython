{
  "nbformat": 4,
  "nbformat_minor": 0,
  "metadata": {
    "colab": {
      "provenance": []
    },
    "kernelspec": {
      "name": "python3",
      "display_name": "Python 3"
    },
    "language_info": {
      "name": "python"
    }
  },
  "cells": [
    {
      "cell_type": "code",
      "execution_count": 20,
      "metadata": {
        "colab": {
          "base_uri": "https://localhost:8080/"
        },
        "id": "2ozNu6AYdRba",
        "outputId": "75cebf9b-fc04-4568-f78d-b13a1280ad96"
      },
      "outputs": [
        {
          "output_type": "stream",
          "name": "stdout",
          "text": [
            "반지름이 5 인 원의 면적은 78.5398 입니다\n"
          ]
        }
      ],
      "source": [
        "#반지름이 5인 원의 면적을 구하시오, 원주율 값은 3.141592\n",
        "r = 5\n",
        "print(\"반지름이\", r, \"인 원의 면적은\", r*r*3.141592, \"입니다\",)"
      ]
    },
    {
      "cell_type": "code",
      "source": [
        "r = 5\n",
        "print(f\"반지름이 {r}인 원의 면적은 {r*r*3.141592}입니다\",)"
      ],
      "metadata": {
        "colab": {
          "base_uri": "https://localhost:8080/"
        },
        "id": "VAXtyUgOgDcj",
        "outputId": "077b3a3f-eb0e-4831-dd04-326f2eb232d7"
      },
      "execution_count": 22,
      "outputs": [
        {
          "output_type": "stream",
          "name": "stdout",
          "text": [
            "반지름이 5인 원의 면적은 78.5398입니다\n"
          ]
        }
      ]
    },
    {
      "cell_type": "code",
      "source": [
        "#분(정수)을 시간과 분으로 변환하여 출력하시오\n",
        "min = 100\n",
        "print(min, \"분은\", min//60, \"시간\", min%60, \"분입니다'\")"
      ],
      "metadata": {
        "colab": {
          "base_uri": "https://localhost:8080/"
        },
        "id": "M4pd5aiRdjOT",
        "outputId": "6c62204f-ef05-4a53-c92e-d395631d4f4e"
      },
      "execution_count": 18,
      "outputs": [
        {
          "output_type": "stream",
          "name": "stdout",
          "text": [
            "100 분은 1 시간 40 분입니다'\n"
          ]
        }
      ]
    },
    {
      "cell_type": "code",
      "source": [
        "min = 100\n",
        "print(f\"{min}분은 {min//60}시간 {min%60}분입니다.\")"
      ],
      "metadata": {
        "colab": {
          "base_uri": "https://localhost:8080/"
        },
        "id": "2vUcq9nXgZVS",
        "outputId": "737ccec7-a94a-4d6f-89f4-ea015ff039e6"
      },
      "execution_count": 25,
      "outputs": [
        {
          "output_type": "stream",
          "name": "stdout",
          "text": [
            "100분은 1시간 40분입니다.\n"
          ]
        }
      ]
    }
  ]
}