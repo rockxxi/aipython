{
  "nbformat": 4,
  "nbformat_minor": 0,
  "metadata": {
    "colab": {
      "provenance": []
    },
    "kernelspec": {
      "name": "python3",
      "display_name": "Python 3"
    },
    "language_info": {
      "name": "python"
    }
  },
  "cells": [
    {
      "cell_type": "code",
      "execution_count": null,
      "metadata": {
        "id": "4cLp9SbGSv5z"
      },
      "outputs": [],
      "source": [
        "#예외처리 try 는 예외발생가능성이 있는 코드 묶음, except문은 예외처리용, 예외없으면 실행x, value error등이 있음"
      ]
    },
    {
      "cell_type": "code",
      "source": [
        "num1 = int(input(\"첫 번째 정수 입력\"))\n",
        "num2 = int(input(\"두 번째 정수 입력\"))\n",
        "\n",
        "if num1 > num2:\n",
        "  print(f\"{num1}은(는) {num2}보다 큽니다.\")\n",
        "elif num1 < num2:\n",
        "  print(f\"{num1}은(는) {num2}보다 작습니다.\")\n",
        "else:\n",
        "  print(f\"{num1}과(와) {num2}은(는) 같습니다.\")"
      ],
      "metadata": {
        "colab": {
          "base_uri": "https://localhost:8080/"
        },
        "id": "tPStZTdIcMZr",
        "outputId": "94905e53-2541-46d4-dc9b-62bd4b0589b7"
      },
      "execution_count": 14,
      "outputs": [
        {
          "output_type": "stream",
          "name": "stdout",
          "text": [
            "첫 번째 정수 입력3\n",
            "두 번째 정수 입력4\n",
            "3은(는) 4보다 작습니다.\n"
          ]
        }
      ]
    },
    {
      "cell_type": "code",
      "source": [
        "\n",
        "num1 = int(input(\"첫 번째 정수를 입력하세요: \"))\n",
        "print(f\"첫 번째 수: {num1}\")\n",
        "\n",
        "num2 = int(input(\"두 번째 정수를 입력하세요: \"))\n",
        "print(f\"두 번째 수: {num2}\")\n",
        "\n",
        "num3 = int(input(\"세 번째 정수를 입력하세요: \"))\n",
        "print(f\"세 번째 수: {num3}\")\n",
        "\n",
        "max_num = num1\n",
        "\n",
        "if num2 > max_num:\n",
        "  max_num = num2\n",
        "\n",
        "if num3 > max_num:\n",
        "  max_num = num3\n",
        "\n",
        "  print(f\"가장 큰 수는 {max_num}입니다\")"
      ],
      "metadata": {
        "colab": {
          "base_uri": "https://localhost:8080/"
        },
        "id": "t554mcM0ag_L",
        "outputId": "ea11b997-0174-49a8-a5a5-becd18c1bf50"
      },
      "execution_count": 11,
      "outputs": [
        {
          "output_type": "stream",
          "name": "stdout",
          "text": [
            "첫 번째 정수를 입력하세요: 1\n",
            "첫 번째 수: 1\n",
            "두 번째 정수를 입력하세요: 2\n",
            "두 번째 수: 2\n",
            "세 번째 정수를 입력하세요: 3\n",
            "세 번째 수: 3\n",
            "가장 큰 수는 3입니다\n"
          ]
        }
      ]
    },
    {
      "cell_type": "code",
      "source": [
        "#사용자로부터 시험 점수 (0부터 100 사이의 정수)를 입력받습니다.\n",
        "#입력받은 점수에 따라 학점을 판별해야 합니다.\n",
        "#if , elif , else 문을 사용하여 점수 범위에 따라 학점을 결정하고 출력합니다.\n",
        "#입력 유효성 검사 (0~100 사이의 정수)를 추가합니다.\n",
        "\n",
        "score = int(input(\"시험 점수를 입력하세용: \"))\n",
        "if score<0 or score >100:\n",
        "  print(\"시험점수는 0부터 100사이의 값이어야 합니다.\")\n",
        "else:\n",
        "  if score >= 90:\n",
        "    print(\"학점:A\")\n",
        "  elif score >= 80:\n",
        "    print(\"학점:B\")\n",
        "  elif score >= 70:\n",
        "    print(\"학점:C\")\n",
        "  elif score >= 60:\n",
        "    print(\"학점:D\")\n",
        "  else :\n",
        "    print(\"학점 F\")"
      ],
      "metadata": {
        "colab": {
          "base_uri": "https://localhost:8080/"
        },
        "id": "N2gfR472cfob",
        "outputId": "7c35b6e1-1332-4193-8e34-c3067a7da988"
      },
      "execution_count": 23,
      "outputs": [
        {
          "output_type": "stream",
          "name": "stdout",
          "text": [
            "시험 점수를 입력하세용: 100\n",
            "학점:A\n"
          ]
        }
      ]
    },
    {
      "cell_type": "code",
      "source": [
        "#in out 구조로\n",
        "score = int(input(\"시험 점수를 입력하세용: \"))\n",
        "if 0 <= score <= 100:\n",
        "  if score >= 90:\n",
        "    print(\"학점:A\")\n",
        "  elif score >= 80:\n",
        "    print(\"학점:B\")\n",
        "  elif score >= 70:\n",
        "    print(\"학점:C\")\n",
        "  elif score >= 60:\n",
        "    print(\"학점:D\")\n",
        "  else :\n",
        "    print(\"학점 F\")\n",
        "else:\n",
        "  print(\"점수는 0부터 100사이 값입니다. 다시 입력하세요\")"
      ],
      "metadata": {
        "colab": {
          "base_uri": "https://localhost:8080/"
        },
        "id": "lvQsdCLIfHzr",
        "outputId": "ca3ce852-3142-47bf-f3cb-af62dda36847"
      },
      "execution_count": 26,
      "outputs": [
        {
          "output_type": "stream",
          "name": "stdout",
          "text": [
            "시험 점수를 입력하세용: 99\n",
            "학점:A\n"
          ]
        }
      ]
    },
    {
      "cell_type": "code",
      "source": [
        "#사용자 연도 입력\n",
        "#윤년의 조건은 4로 나누어 떨어지면서 100으로 나눠떨어지지 않음\n",
        "#400으로 나눠떨어지는 해\n",
        "#요거는 충분히 가능\n",
        "\n",
        "year = int(input(\"연도를 입력하세요: \"))\n",
        "if (year%4 == 0 and year%100 !=0) or year%400 == 0:\n",
        "  print(f\"{year}년은 윤년입니다.\")\n",
        "else:\n",
        "  print(f\"{year}년은 윤년이 아닙니다.\")"
      ],
      "metadata": {
        "colab": {
          "base_uri": "https://localhost:8080/"
        },
        "id": "l6EZyeDAf8bb",
        "outputId": "bcd6f1c1-93aa-4182-ab08-947940988458"
      },
      "execution_count": 29,
      "outputs": [
        {
          "output_type": "stream",
          "name": "stdout",
          "text": [
            "연도를 입력하세요: 2025\n",
            "2025년은 윤년이 아닙니다.\n"
          ]
        }
      ]
    },
    {
      "cell_type": "code",
      "source": [
        "#반복문 for / while\n",
        "#for은 횟수가 정해졌을 때, while은 종료조건이 실행될때까지\n",
        "#for i in range(5)라면 0~4까지 반복 i에 0부터 4까지 넣음\n",
        "#print(i) 하면 0 1 2 3 4 일케나옴\n",
        "\n",
        "#1부터 5까지나오게하기\n",
        "for i in range(5):\n",
        "  print(i+1)\n",
        "#혹은\n",
        "for i in range(1,6):\n",
        "  print(i)\n",
        "#range(1,10,2) == 1부터 10까지 간격 2로\n",
        "#list처럼 for i in [1,2,3,4,5]\n",
        "\n",
        "count = 0\n",
        "while count <10:\n",
        "  print(count)\n",
        "  count += 1\n",
        "print (\"루프종료\")"
      ],
      "metadata": {
        "colab": {
          "base_uri": "https://localhost:8080/"
        },
        "id": "mjtVz3EWk0V0",
        "outputId": "ccf884bc-7a90-4b37-dd6d-5b7d7b26dd30"
      },
      "execution_count": 36,
      "outputs": [
        {
          "output_type": "stream",
          "name": "stdout",
          "text": [
            "1\n",
            "2\n",
            "3\n",
            "4\n",
            "5\n",
            "1\n",
            "2\n",
            "3\n",
            "4\n",
            "5\n",
            "0\n",
            "1\n",
            "2\n",
            "3\n",
            "4\n",
            "5\n",
            "6\n",
            "7\n",
            "8\n",
            "9\n",
            "루프종료\n"
          ]
        }
      ]
    },
    {
      "cell_type": "code",
      "source": [
        "#1부터 N까지의 합 계산\n",
        "n = int(input(\"입력값:\"))\n",
        "total = 0\n",
        "if n <= 0:\n",
        "  print(\"입력값은 양의 정수여야 합니다.\")\n",
        "else:\n",
        "  for i in range(1, n+1):\n",
        "    total += i\n",
        "#print를 반복문안에 넣으면 마지막것만 나오지 않고 과정이 다나옴\n",
        "print(total)"
      ],
      "metadata": {
        "colab": {
          "base_uri": "https://localhost:8080/"
        },
        "id": "-dYXx_dZlvvF",
        "outputId": "80754e1f-ff73-4758-e963-4addbfa217be"
      },
      "execution_count": 54,
      "outputs": [
        {
          "output_type": "stream",
          "name": "stdout",
          "text": [
            "입력값:55\n",
            "1540\n"
          ]
        }
      ]
    },
    {
      "cell_type": "code",
      "source": [
        "#문제 4: 특정 조건까지 반복하기 (while 루프)\n",
        "#초기값 0부터 시작하는 변수를 하나 설정합니다.\n",
        "#while 루프를 사용하여 변수가 10보다 작을 동안 반복합니다.\n",
        "#start, stop, step 기억하기\n",
        "count = 0\n",
        "\n",
        "while count < 10:\n",
        "  print(count)\n",
        "  count += 1\n",
        "print(\"while 루프 종료\")"
      ],
      "metadata": {
        "colab": {
          "base_uri": "https://localhost:8080/"
        },
        "id": "zeumEmmrsHas",
        "outputId": "734d6e2d-fc0b-45bb-a85a-631c134ea32c"
      },
      "execution_count": 61,
      "outputs": [
        {
          "output_type": "stream",
          "name": "stdout",
          "text": [
            "0\n",
            "1\n",
            "2\n",
            "3\n",
            "4\n",
            "5\n",
            "6\n",
            "7\n",
            "8\n",
            "9\n",
            "while 루프 종료\n"
          ]
        }
      ]
    },
    {
      "cell_type": "code",
      "source": [
        "count = 0\n",
        "for i in range(count, 10):\n",
        "  print(count)\n",
        "  count += 1\n",
        "print(\"for 루프종료\")\n",
        "\n",
        "#start생략, step생략해서 count 안써도 가능\n",
        "#count += 1도 필요없음\n",
        "for i in range(10):\n",
        "  print(i)\n",
        "print(\"for 루프종료\")"
      ],
      "metadata": {
        "colab": {
          "base_uri": "https://localhost:8080/"
        },
        "id": "tMS9erVks7WL",
        "outputId": "82e9b4cc-0af0-459f-91c9-5b56c6c647c9"
      },
      "execution_count": 65,
      "outputs": [
        {
          "output_type": "stream",
          "name": "stdout",
          "text": [
            "0\n",
            "1\n",
            "2\n",
            "3\n",
            "4\n",
            "5\n",
            "6\n",
            "7\n",
            "8\n",
            "9\n",
            "for 루프종료\n",
            "0\n",
            "1\n",
            "2\n",
            "3\n",
            "4\n",
            "5\n",
            "6\n",
            "7\n",
            "8\n",
            "9\n",
            "for 루프종료\n"
          ]
        }
      ]
    }
  ]
}