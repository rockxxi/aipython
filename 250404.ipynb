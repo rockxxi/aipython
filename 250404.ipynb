{
 "cells": [
  {
   "cell_type": "code",
   "execution_count": 19,
   "id": "1be2e6f4-70a2-4b8c-bd01-dd0eeb1f7eba",
   "metadata": {},
   "outputs": [
    {
     "name": "stdin",
     "output_type": "stream",
     "text": [
      "온도종류 섭씨나 화씨: 섭씨\n",
      "섭씨온도: 25\n"
     ]
    },
    {
     "name": "stdout",
     "output_type": "stream",
     "text": [
      "화씨 77.00입니다.\n"
     ]
    }
   ],
   "source": [
    "# 온도변환기 실습\n",
    "kind = input('온도종류 섭씨나 화씨:')\n",
    "temp = int(input(kind+ '온도:'))\n",
    "if kind == '섭씨':\n",
    "    print(\"화씨 %.2f입니다.\"  % (temp*9/5+32))\n",
    "else:\n",
    "    print(\"섭씨 %.2f입니다.\"  % ((temp-32)*5/9))"
   ]
  },
  {
   "cell_type": "code",
   "execution_count": null,
   "id": "05459d4c-13fe-440c-8476-437becb5dedd",
   "metadata": {},
   "outputs": [],
   "source": [
    "#출력문에서 %는 문자열변환에 변화지정자로써 쓰이기도 함 변수가 보통 %뒤에 옴 %s %d 등으로 변수를 뒤에써주긴해야함\n",
    "#소수점자리수도 %.2f 로 스면 소수점 이하2자리로 표현가능\n",
    "#폭도 가능 %10.2f 하면 10칸띄우고 소수점2자리까지로\n"
   ]
  },
  {
   "cell_type": "code",
   "execution_count": 27,
   "id": "d9d01d7a-490d-4cf3-9f5e-646aa72db41a",
   "metadata": {},
   "outputs": [
    {
     "name": "stdin",
     "output_type": "stream",
     "text": [
      "1~100 사이 숫자입력 50\n"
     ]
    },
    {
     "name": "stdout",
     "output_type": "stream",
     "text": [
      "50보다 크다\n"
     ]
    },
    {
     "name": "stdin",
     "output_type": "stream",
     "text": [
      "1~100 사이 숫자입력 75\n"
     ]
    },
    {
     "name": "stdout",
     "output_type": "stream",
     "text": [
      "75보다 작다\n"
     ]
    },
    {
     "name": "stdin",
     "output_type": "stream",
     "text": [
      "1~100 사이 숫자입력 63\n"
     ]
    },
    {
     "name": "stdout",
     "output_type": "stream",
     "text": [
      "63보다 크다\n"
     ]
    },
    {
     "name": "stdin",
     "output_type": "stream",
     "text": [
      "1~100 사이 숫자입력 70\n"
     ]
    },
    {
     "name": "stdout",
     "output_type": "stream",
     "text": [
      "정답은 70였습니다 4번만에 맞추셨네요.\n"
     ]
    }
   ],
   "source": [
    "#숫자맞추기 게임\n",
    "import random\n",
    "answer = random.randint(1,100)\n",
    "times = 0\n",
    "#random은 0.0이상 1.0미만 랜덤실수\n",
    "#ramdint(a,b) 하면 a 이상 b 이하 정수 범위\n",
    "#맞추는 횟수를 장담할 수 없으니 while문을 활용\n",
    "while True:\n",
    "    #true 대문자로 쓰기\n",
    "    #반복안되는 print문은 밖으로 빼기\n",
    "    user = int(input('1~100 사이 숫자입력'))\n",
    "    times +=1\n",
    "    if user == answer:\n",
    "               break\n",
    "    elif user < answer:\n",
    "               print(f'{user}보다 크다')\n",
    "    else:\n",
    "        print(f'{user}보다 작다')\n",
    "print(f'정답은 {answer}였습니다 {times}번만에 맞추셨네요.') \n",
    "    "
   ]
  },
  {
   "cell_type": "code",
   "execution_count": null,
   "id": "2efbcc2c-8ed6-4bb8-b5fe-fc7306dc6c43",
   "metadata": {},
   "outputs": [],
   "source": [
    "#리스트 [] 사용\n",
    "#순서대로 0부터 배정, [0]이 처음이고 [-1]은 맨 마지막것\n",
    "#슬라이싱 [2:5] [:4] [5:] [::2] (이건 스탭이라2칸씩띄어서) [::-1] 역순으로 "
   ]
  },
  {
   "cell_type": "code",
   "execution_count": null,
   "id": "f94735bd-2067-4ee1-bc85-8094fc77d711",
   "metadata": {},
   "outputs": [],
   "source": [
    "#리스트 수정\n",
    "#과일[1] = \"키위\" 특정위치항목변경\n",
    "#과일.append(\"??\") 끝에 항목 추가\n",
    "#과일.insertin(1,\"??\") 특정위치에 항목 추가\n",
    "#과일.extend([\"akdrh\", \"수박\"]) 여러 항목한번에 추가"
   ]
  },
  {
   "cell_type": "code",
   "execution_count": 38,
   "id": "a8637d28-3d98-4bae-8661-b45f9f0c1bac",
   "metadata": {},
   "outputs": [
    {
     "name": "stdout",
     "output_type": "stream",
     "text": [
      "[30, 41, 27, 18, 9, 39]\n"
     ]
    }
   ],
   "source": [
    "#리스트 생성하기 1~45 중 6개의 숫자가 들어간\n",
    "import random\n",
    "\n",
    "nums =[]\n",
    "times = 0\n",
    "while True:\n",
    "    num = random.randint(1,45)\n",
    "    nums.append(num)\n",
    "    times +=1\n",
    "    if times == 6:\n",
    "        break\n",
    "print(nums)\n",
    "\n"
   ]
  },
  {
   "cell_type": "code",
   "execution_count": 33,
   "id": "1872e523-2c57-48e3-9039-54d1db0949cd",
   "metadata": {},
   "outputs": [
    {
     "name": "stdout",
     "output_type": "stream",
     "text": [
      "[25, 32, 37, 6, 21, 15]\n"
     ]
    }
   ],
   "source": [
    "import random\n",
    "list = []\n",
    "for i in range(1,7):\n",
    "    num= random.randint(1,45)\n",
    "    list.append(num)\n",
    "\n",
    "print(list)"
   ]
  },
  {
   "cell_type": "code",
   "execution_count": 39,
   "id": "a032b6dc-f40e-42b7-9ede-3276ee6bcc1e",
   "metadata": {},
   "outputs": [],
   "source": [
    "#리스트 항목제거\n",
    "#마지막_과일 = 과일.pop 뒤에서부터 하나씩 제거\n",
    "#과일_pop(1) 하면 2번째꺼 날아갈 것\n"
   ]
  },
  {
   "cell_type": "code",
   "execution_count": 42,
   "id": "7b48153f-f4cc-4414-849e-993dcc728203",
   "metadata": {},
   "outputs": [],
   "source": [
    "#과일_remove(\"??\")는 특정 값을 날림\n",
    "#과일_clear는 다날리는거"
   ]
  },
  {
   "cell_type": "code",
   "execution_count": 44,
   "id": "a3866b0f-b4b2-4790-873d-3a73c8392782",
   "metadata": {},
   "outputs": [],
   "source": [
    "#리스트 길이 구하거나연결 가능\n",
    "#len(리스트명), 리스트1 + 리스트2 하믄됨\n",
    "#항목이 리스트에 있는지 확인 ? in 리스트 하면 값이 True False 로 나옴\n",
    "#메소드는 객체이름뒤에 .찍고 오는거\n",
    "#randint같은거 .pop .remove같은거\n",
    "#유용한 리스트 메서드\n",
    "# 숫자.sort() .sort(reverse=True) sorted / .count(1) 1 개수 출력, "
   ]
  },
  {
   "cell_type": "code",
   "execution_count": 48,
   "id": "5a2e20f4-4261-4a67-9b15-95ebb9fd7725",
   "metadata": {},
   "outputs": [
    {
     "name": "stdout",
     "output_type": "stream",
     "text": [
      "86.4\n"
     ]
    }
   ],
   "source": [
    "#학생성적평균 계산\n",
    "성적 = [85, 92, 78, 90, 87]\n",
    "평균 = sum(성적) / len(성적)\n",
    "print(평균)"
   ]
  },
  {
   "cell_type": "code",
   "execution_count": 52,
   "id": "809cad66-55e4-4e80-8649-252b1b9566f8",
   "metadata": {},
   "outputs": [
    {
     "name": "stdout",
     "output_type": "stream",
     "text": [
      "86.4\n"
     ]
    }
   ],
   "source": [
    "#제어문 활용해서 sum, len 없이 평균구하기\n",
    "#항목을 반복해서 추출하여 더하기..?\n",
    "#가 아니고 성적리스트에서 하나씩 가져와서 합이라는 변수에 더하는 형식, 그리고 하면서 항목수도 카운트하기\n",
    "\n",
    "성적 = [85, 92, 78, 90, 87]\n",
    "합 = 0\n",
    "항목수 = 0\n",
    "평균 = 0\n",
    "for i in 성적:\n",
    "    합 += i\n",
    "    항목수 +=1\n",
    "평균 = 합/항목수\n",
    "print(평균)\n",
    "    \n",
    "    "
   ]
  },
  {
   "cell_type": "code",
   "execution_count": null,
   "id": "84197541-8cca-4ac7-b905-51220939e46d",
   "metadata": {},
   "outputs": [],
   "source": [
    "#합격자명단만들기\n",
    "#리스트 속 하나의 항목에 정보가 여러개가 있을 수 있음 [(\"철수\", 85)] 등으로\n",
    "#for 학생, 점수 in 리스트: 형식으로 각각 입력이 될 수 있음\n",
    "#셋을 리스트로 만드는 방식으로 중복 제거하기\n",
    "#list(set(숫자들)) 하면 숫자들 셋의 중복값제거가됨 리스트는 중복이 되기때문임\n"
   ]
  },
  {
   "cell_type": "code",
   "execution_count": null,
   "id": "0b9c9bcd-7ecc-42a4-b549-b581d84b09d2",
   "metadata": {},
   "outputs": [],
   "source": [
    "#리스트실습문제, "
   ]
  }
 ],
 "metadata": {
  "kernelspec": {
   "display_name": "Python 3 (ipykernel)",
   "language": "python",
   "name": "python3"
  },
  "language_info": {
   "codemirror_mode": {
    "name": "ipython",
    "version": 3
   },
   "file_extension": ".py",
   "mimetype": "text/x-python",
   "name": "python",
   "nbconvert_exporter": "python",
   "pygments_lexer": "ipython3",
   "version": "3.12.6"
  }
 },
 "nbformat": 4,
 "nbformat_minor": 5
}
