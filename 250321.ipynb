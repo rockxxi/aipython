{
 "cells": [
  {
   "cell_type": "code",
   "execution_count": 1,
   "id": "d2e74cbd-99f4-4b0b-a4c2-32701784e3ce",
   "metadata": {},
   "outputs": [
    {
     "name": "stdin",
     "output_type": "stream",
     "text": [
      "나이를 입력하세요:  25\n"
     ]
    },
    {
     "name": "stdout",
     "output_type": "stream",
     "text": [
      "당신은 내년에 26 살입니다.\n"
     ]
    }
   ],
   "source": [
    "age = input(\"나이를 입력하세요: \")\n",
    "age = int(age)\n",
    "print(\"당신은 내년에\", age + 1, \"살입니다.\")"
   ]
  },
  {
   "cell_type": "code",
   "execution_count": 2,
   "id": "badbca9e-5ecb-4ada-9528-829b3754e0af",
   "metadata": {},
   "outputs": [
    {
     "name": "stdin",
     "output_type": "stream",
     "text": [
      "나이를 입력하세요:  25\n"
     ]
    },
    {
     "name": "stdout",
     "output_type": "stream",
     "text": [
      "당신은 내년에 26 살입니다.\n"
     ]
    }
   ],
   "source": [
    "age = input(\"나이를 입력하세요: \")\n",
    "age = int(age)\n",
    "age = age + 1\n",
    "print(\"당신은 내년에\", age, \"살입니다.\")"
   ]
  },
  {
   "cell_type": "code",
   "execution_count": 4,
   "id": "11ceeec3-28e1-452e-9062-43e9aa803263",
   "metadata": {},
   "outputs": [
    {
     "name": "stdin",
     "output_type": "stream",
     "text": [
      "나이를 입력하세요:  25\n"
     ]
    },
    {
     "name": "stdout",
     "output_type": "stream",
     "text": [
      "당신은 내년에 26.0 살입니다.\n"
     ]
    }
   ],
   "source": [
    "age = float(input(\"나이를 입력하세요: \"))\n",
    "age = age + 1\n",
    "print(\"당신은 내년에\", age, \"살입니다.\")"
   ]
  },
  {
   "cell_type": "code",
   "execution_count": 10,
   "id": "ab2a0c6a-72b0-4792-be73-6a6d3123a84f",
   "metadata": {},
   "outputs": [
    {
     "name": "stdin",
     "output_type": "stream",
     "text": [
      "나이 입력 25\n"
     ]
    },
    {
     "name": "stdout",
     "output_type": "stream",
     "text": [
      "25살입니다\n"
     ]
    }
   ],
   "source": [
    "age = input(\"나이 입력\")\n",
    "print(age + \"살입니다\")"
   ]
  },
  {
   "cell_type": "code",
   "execution_count": 20,
   "id": "7e5e0b2b-887b-4642-a3f9-dddebf3c48e8",
   "metadata": {},
   "outputs": [
    {
     "name": "stdin",
     "output_type": "stream",
     "text": [
      "숫자를 입력하시오:  2\n"
     ]
    },
    {
     "name": "stdout",
     "output_type": "stream",
     "text": [
      "양수입니다\n"
     ]
    }
   ],
   "source": [
    "### 조건문은 변수 연산자 숫자 순이 정도\n",
    "#입력받은 숫자가 양수인지 음수인지 판단하기\n",
    "#문법오류, 논리오류 등등이 있음\n",
    "#조건문 구성에서 순서 등 고려해야할 게 많음\n",
    "\n",
    "num = int(input(\"숫자를 입력하시오: \"))\n",
    "if num > 0:\n",
    "    print(\"양수입니다\")\n",
    "elif num < 0:\n",
    "    print(\"음수입니다\")\n",
    "else:\n",
    "    print(\"0이네요.\")"
   ]
  },
  {
   "cell_type": "code",
   "execution_count": 25,
   "id": "ddba2c3b-1ee4-4655-96b9-1a54737278d7",
   "metadata": {},
   "outputs": [
    {
     "name": "stdin",
     "output_type": "stream",
     "text": [
      "숫자를 입력하시오:  7\n"
     ]
    },
    {
     "name": "stdout",
     "output_type": "stream",
     "text": [
      "홀수네요.\n"
     ]
    }
   ],
   "source": [
    "#짝수, 홀수를 구분하는 프로그램\n",
    "num = int(input(\"숫자를 입력하시오: \"))\n",
    "if num%2 == 0:\n",
    "    print(\"짝수입니다\")\n",
    "else:\n",
    "    print(\"홀수네요.\")"
   ]
  },
  {
   "cell_type": "code",
   "execution_count": 57,
   "id": "100ab5a0-c731-4ec5-b910-85f5e4ded17d",
   "metadata": {},
   "outputs": [
    {
     "name": "stdin",
     "output_type": "stream",
     "text": [
      "숫자를 입력 1\n"
     ]
    },
    {
     "name": "stdout",
     "output_type": "stream",
     "text": [
      "OK\n"
     ]
    }
   ],
   "source": [
    "num = int(input(\"숫자를 입력\"))\n",
    "if num == 1 or num == 2 or num == 3:\n",
    "    print(\"OK\")\n",
    "else:\n",
    "    print(\"잘못된 입력\")"
   ]
  },
  {
   "cell_type": "code",
   "execution_count": 67,
   "id": "dbe7be65-3676-4f6d-8b26-3e18d5843752",
   "metadata": {},
   "outputs": [
    {
     "name": "stdin",
     "output_type": "stream",
     "text": [
      " 3 2\n"
     ]
    }
   ],
   "source": [
    "a,b = map(int, input().split())"
   ]
  },
  {
   "cell_type": "code",
   "execution_count": 73,
   "id": "4dc46857-ec61-46ec-8496-8036df9b1a62",
   "metadata": {},
   "outputs": [
    {
     "ename": "SyntaxError",
     "evalue": "invalid syntax (4239743274.py, line 2)",
     "output_type": "error",
     "traceback": [
      "\u001b[0;36m  Cell \u001b[0;32mIn[73], line 2\u001b[0;36m\u001b[0m\n\u001b[0;31m    if a b == 2 4 or a,b == 4 1:\u001b[0m\n\u001b[0m         ^\u001b[0m\n\u001b[0;31mSyntaxError\u001b[0m\u001b[0;31m:\u001b[0m invalid syntax\n"
     ]
    }
   ],
   "source": [
    "a,b = map(int, input().split())\n",
    "if a b == 2 4 or a,b == 4 1:\n",
    "      print(\"잘못된 입력\")\n",
    "elif a>b:\n",
    "    print(\"A승B패\")\n",
    "elif a<b: \n",
    "    print(\"B승A패\")\n",
    "else:\n",
    "    print(\"무승부\")\n",
    "    \n",
    "\n",
    "      "
   ]
  },
  {
   "cell_type": "code",
   "execution_count": 78,
   "id": "77c725ce-909e-4463-8a4b-91b5f4d6fa5e",
   "metadata": {},
   "outputs": [
    {
     "name": "stdin",
     "output_type": "stream",
     "text": [
      " 2 5\n"
     ]
    },
    {
     "name": "stdout",
     "output_type": "stream",
     "text": [
      "잘못된입력\n"
     ]
    }
   ],
   "source": [
    "a,b = map(int, input().split())\n",
    "if a >=4 or b>=4:\n",
    "    print(\"잘못된입력\")\n",
    "else:\n",
    "    if a==b:\n",
    "        print(\"무승부\")\n",
    "    elif a>b:\n",
    "        print(\"A승B패\")\n",
    "    else:\n",
    "        print(\"B승A패\")"
   ]
  },
  {
   "cell_type": "code",
   "execution_count": 84,
   "id": "a625fd4e-4c11-4023-ade2-24d3477adb87",
   "metadata": {},
   "outputs": [
    {
     "name": "stdin",
     "output_type": "stream",
     "text": [
      " 2 3\n"
     ]
    },
    {
     "name": "stdout",
     "output_type": "stream",
     "text": [
      "B승A패\n"
     ]
    }
   ],
   "source": [
    "a,b = map(int, input().split())\n",
    "if a >=4 or b>=4:\n",
    "    print(\"잘못된입력\")\n",
    "else:\n",
    "    if a==b:\n",
    "        print(\"무승부\")\n",
    "    elif (a ==1 and b ==3) or (a ==3 and b ==2) or (a ==2 and b ==1) :\n",
    "        print(\"A승B패\")\n",
    "    else:\n",
    "        print(\"B승A패\")"
   ]
  },
  {
   "cell_type": "code",
   "execution_count": null,
   "id": "2f336af3-40dd-4596-bbce-b2571995f1aa",
   "metadata": {},
   "outputs": [],
   "source": [
    "a,b = map(int, input().split())\n",
    "if a == 4 or b == 4:\n",
    "    print(\"잘못된입력\")\n",
    "else:\n",
    "    if a==b:\n",
    "        print(\"무승부\")\n",
    "    elif (a ==3 and b ==1) or (a ==3 and b ==2) or (a ==2 and b ==1) :\n",
    "        print(\"A승B패\")\n",
    "    else:\n",
    "        print(\"B승A패\")"
   ]
  }
 ],
 "metadata": {
  "kernelspec": {
   "display_name": "Python 3 (ipykernel)",
   "language": "python",
   "name": "python3"
  },
  "language_info": {
   "codemirror_mode": {
    "name": "ipython",
    "version": 3
   },
   "file_extension": ".py",
   "mimetype": "text/x-python",
   "name": "python",
   "nbconvert_exporter": "python",
   "pygments_lexer": "ipython3",
   "version": "3.12.6"
  }
 },
 "nbformat": 4,
 "nbformat_minor": 5
}
